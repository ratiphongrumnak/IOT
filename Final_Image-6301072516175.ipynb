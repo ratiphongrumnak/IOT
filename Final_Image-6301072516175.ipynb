{
 "cells": [
  {
   "cell_type": "code",
   "execution_count": 1,
   "metadata": {},
   "outputs": [],
   "source": [
    "import cv2\n",
    "import numpy as np\n",
    "import scipy\n",
    "import matplotlib.pylab as plt\n",
    "from skimage import io"
   ]
  },
  {
   "cell_type": "code",
   "execution_count": null,
   "metadata": {},
   "outputs": [
    {
     "ename": "",
     "evalue": "",
     "output_type": "error",
     "traceback": [
      "\u001b[1;31mThe Kernel crashed while executing code in the the current cell or a previous cell. Please review the code in the cell(s) to identify a possible cause of the failure. Click <a href='https://aka.ms/vscodeJupyterKernelCrash'>here</a> for more info. View Jupyter <a href='command:jupyter.viewOutput'>log</a> for further details."
     ]
    }
   ],
   "source": [
    "img = cv2.imread('Template-1.png',1)\n",
    "cap = cv2.VideoCapture('left_output-1.avi')\n",
    "\n",
    "detector = cv2.SIFT_create()\n",
    "matching = cv2.BFMatcher()\n",
    "min_match_number = 10\n",
    "img_gray = cv2.cvtColor(img,cv2.COLOR_BGR2GRAY)\n",
    "\n",
    "\n",
    "while cap.isOpened():\n",
    "    ret,frame = cap.read()\n",
    "    ret,new = cap.read()\n",
    "    cap_frame = frame.copy()\n",
    "    frame_gray = cv2.cvtColor(cap_frame,cv2.COLOR_BGR2GRAY)\n",
    "    wide = cap.get(3)\n",
    "    high = cap.get(4)\n",
    "    center_x = wide/2\n",
    "    center_y = high/2\n",
    "    if ret :\n",
    "        img_kpts,img_desc = detector.detectAndCompute(img_gray,None)\n",
    "        query_kpts,query_desc = detector.detectAndCompute(frame_gray,None)\n",
    "        match = matching.knnMatch(img_desc,query_desc,k = 2)\n",
    "        goodmatch = list()\n",
    "        for m,n in match :\n",
    "            if m.distance < 0.65*n.distance :\n",
    "                goodmatch.append(m)\n",
    "        if len(goodmatch) > min_match_number :\n",
    "            src_pts = np.float32([ img_kpts[m.queryIdx].pt for m in goodmatch]).reshape(-1,1,2)\n",
    "            dst_pts = np.float32([ query_kpts[m.trainIdx].pt for m in goodmatch]).reshape(-1,1,2)\n",
    "            src_pts,dst_pts = np.float32((src_pts,dst_pts))\n",
    "            H,status=cv2.findHomography(src_pts,dst_pts,cv2.RANSAC,0.5)\n",
    "            h,w=img.shape[:2]\n",
    "            Border=np.float32([[[0,0],[0,h],[w,h],[w,0]]]).reshape(-1,1,2)\n",
    "            BoxBorder=cv2.perspectiveTransform(Border,H)\n",
    "            x_axis = BoxBorder[0][0]\n",
    "            y_axis = BoxBorder[1][0]\n",
    "            z1 = BoxBorder[0]\n",
    "            z2 = BoxBorder[1]\n",
    "            z_axis = z2[0]-z1[0]\n",
    "            detect_img = cv2.polylines(frame,[np.int32(BoxBorder)],True,(0,0,255),2)\n",
    "            cv2.putText(frame,(\"X: {}, Y: {} , Z:{}\".format(int(x_axis[0]-center_x),int(y_axis[1]-center_y),int(z_axis[1]))),(10,frame.shape[0]-10),cv2.FONT_HERSHEY_SIMPLEX,1,(0,0,255),2,cv2.LINE_AA,False)\n",
    "            cv2.imshow('result',detect_img)\n",
    "\n",
    "        if cv2.waitKey(int(1000/30)) & 0xFF == ord('q') :\n",
    "            break       \n",
    "    else :\n",
    "        break\n",
    "cap.release()\n",
    "cv2.destroyAllWindows()          "
   ]
  }
 ],
 "metadata": {
  "kernelspec": {
   "display_name": "Python 3.10.7 64-bit",
   "language": "python",
   "name": "python3"
  },
  "language_info": {
   "codemirror_mode": {
    "name": "ipython",
    "version": 3
   },
   "file_extension": ".py",
   "mimetype": "text/x-python",
   "name": "python",
   "nbconvert_exporter": "python",
   "pygments_lexer": "ipython3",
   "version": "3.10.7"
  },
  "orig_nbformat": 4,
  "vscode": {
   "interpreter": {
    "hash": "107d7b120a5b68773a87d4067e673630b35702e55ebab3138143d08b1c4d7cbc"
   }
  }
 },
 "nbformat": 4,
 "nbformat_minor": 2
}
